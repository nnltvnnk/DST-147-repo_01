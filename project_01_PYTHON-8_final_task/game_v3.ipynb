{
 "cells": [
  {
   "attachments": {},
   "cell_type": "markdown",
   "metadata": {},
   "source": [
    "# Игра \"Угадай число\"\n",
    "\n",
    "Алгоритм угадывает случчайно загаданное число в диапазоне от 1 до 100. Требование к алгоритму: необходимо отгадать число за менее, чем 20 попыток."
   ]
  },
  {
   "attachments": {},
   "cell_type": "markdown",
   "metadata": {},
   "source": [
    "## Демонстрация эффективности алгоритма"
   ]
  },
  {
   "cell_type": "code",
   "execution_count": 1,
   "metadata": {},
   "outputs": [
    {
     "name": "stdout",
     "output_type": "stream",
     "text": [
      "Алгоритм угадывает число в среднем за 5 попыток\n"
     ]
    }
   ],
   "source": [
    "from game_v3 import game_core_v3\n",
    "from game_v3 import score_game\n",
    "score_game(game_core_v3)"
   ]
  }
 ],
 "metadata": {
  "kernelspec": {
   "display_name": "Python 3",
   "language": "python",
   "name": "python3"
  },
  "language_info": {
   "codemirror_mode": {
    "name": "ipython",
    "version": 3
   },
   "file_extension": ".py",
   "mimetype": "text/x-python",
   "name": "python",
   "nbconvert_exporter": "python",
   "pygments_lexer": "ipython3",
   "version": "3.11.2"
  },
  "orig_nbformat": 4,
  "vscode": {
   "interpreter": {
    "hash": "952a2e381aa8c8c3760ac1f5c87e62de8bfad21517b1dbfbb446c1991fff3b9e"
   }
  }
 },
 "nbformat": 4,
 "nbformat_minor": 2
}
