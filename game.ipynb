{
 "cells": [
  {
   "cell_type": "code",
   "execution_count": null,
   "metadata": {},
   "outputs": [],
   "source": []
  }
 ],
 "metadata": {
  "kernelspec": {
   "display_name": "Python 3",
   "language": "python",
   "name": "python3"
  },
  "language_info": {
   "name": "python",
   "version": "3.11.2"
  },
  "orig_nbformat": 4,
  "vscode": {
   "interpreter": {
    "hash": "952a2e381aa8c8c3760ac1f5c87e62de8bfad21517b1dbfbb446c1991fff3b9e"
   }
  }
 },
 "nbformat": 4,
 "nbformat_minor": 2
}
